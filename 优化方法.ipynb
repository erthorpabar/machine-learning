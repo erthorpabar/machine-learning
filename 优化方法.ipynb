{
 "cells": [
  {
   "cell_type": "markdown",
   "metadata": {},
   "source": [
    "0 过拟合 欠拟合"
   ]
  },
  {
   "cell_type": "code",
   "execution_count": null,
   "metadata": {},
   "outputs": [],
   "source": [
    "'''  \n",
    "欠拟合 -> 偏差高(预测值 偏离 真实值)\n",
    "过拟合 -> 方差高(抖动太高 正则化 -> 防止抖动)\n",
    "'''"
   ]
  },
  {
   "cell_type": "code",
   "execution_count": null,
   "metadata": {},
   "outputs": [],
   "source": [
    "''' \n",
    "正则化 \n",
    "解决过拟合 = 不要太在意细节 把握整体趋势 = 等价于加入先验概率\n",
    "原理\n",
    "y = w0 + w1*x1 + w2*x2 + ... + wn*xn\n",
    "如果 每个 w 很大 -> 函数变化很曲折 -> 过拟合\n",
    "如果 每个 w 很小 -> 函数变化很平缓 -> 欠拟合\n",
    "\n",
    "a 无正则化 \n",
    "loss = loss\n",
    "\n",
    "b L1正则化 (lasso 回归)\n",
    "L1_loss = loss + λ |w| \n",
    "-> 有可能让 w=0 从而筛选权重\n",
    "\n",
    "c L2正则化 (ridge 岭回归)\n",
    "L2_loss = loss + λ w^2\n",
    "\n",
    "'''"
   ]
  },
  {
   "cell_type": "markdown",
   "metadata": {},
   "source": [
    "1 模型优化"
   ]
  },
  {
   "cell_type": "code",
   "execution_count": null,
   "metadata": {},
   "outputs": [],
   "source": [
    "''' \n",
    "1 模型优化(训练数据集不同带来的影响)\n",
    "a bagging = 随机采样 训练多个模型\n",
    "b 随机森林 = 随机采样 随机选择特征 训练多个模型\n",
    "c boosting = 对错误样本不断加权 训练多个模型(包括adaboost,gbdt)\n",
    "'''"
   ]
  },
  {
   "cell_type": "markdown",
   "metadata": {},
   "source": [
    "2 超参数优化"
   ]
  },
  {
   "cell_type": "code",
   "execution_count": null,
   "metadata": {},
   "outputs": [],
   "source": [
    "''' \n",
    "2 超参数优化\n",
    "grid search = 遍历所有超参数\n",
    "'''"
   ]
  },
  {
   "cell_type": "markdown",
   "metadata": {},
   "source": [
    "3 验证数据带来的不稳定性"
   ]
  },
  {
   "cell_type": "code",
   "execution_count": null,
   "metadata": {},
   "outputs": [],
   "source": [
    "''' \n",
    "3 验证数据集带来的不稳定\n",
    "a 留出法 (8训练:2测试)\n",
    "b k折交叉验证 (5折 = 4训练:1测试 遍历5次)\n",
    "c 自助法 (有放回抽样)\n",
    "'''"
   ]
  }
 ],
 "metadata": {
  "kernelspec": {
   "display_name": "Python 3",
   "language": "python",
   "name": "python3"
  },
  "language_info": {
   "name": "python",
   "version": "3.10.9"
  }
 },
 "nbformat": 4,
 "nbformat_minor": 2
}

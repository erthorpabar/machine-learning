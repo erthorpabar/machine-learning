{
 "cells": [
  {
   "cell_type": "code",
   "execution_count": null,
   "id": "01374527",
   "metadata": {},
   "outputs": [],
   "source": [
    "''' \n",
    "k-means 聚类\n",
    "\n",
    "1 人工指定k个 聚类中心\n",
    "2 随机 初始化中心点\n",
    "3 根据 距离 将点 分配到 最近的中心点 分类\n",
    "4 计算每个类别的 聚类中心\n",
    "5 根据 距离 将点 分配到 最近的中心点 分类\n",
    "6 重复 n 次 直到 中心点稳定\n",
    "\n",
    "'''"
   ]
  }
 ],
 "metadata": {
  "kernelspec": {
   "display_name": "Python 3",
   "language": "python",
   "name": "python3"
  },
  "language_info": {
   "name": "python",
   "version": "3.10.9"
  }
 },
 "nbformat": 4,
 "nbformat_minor": 5
}

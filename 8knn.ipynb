{
 "cells": [
  {
   "cell_type": "code",
   "execution_count": null,
   "id": "65e54744",
   "metadata": {},
   "outputs": [],
   "source": [
    "''' \n",
    "knn 分类\n",
    "附近k个多的类别 决定类别\n",
    "\n",
    "1 计算所有距离\n",
    "2 排序 取前k个\n",
    "3 投票 决定类别\n",
    "'''"
   ]
  }
 ],
 "metadata": {
  "kernelspec": {
   "display_name": "Python 3",
   "language": "python",
   "name": "python3"
  },
  "language_info": {
   "name": "python",
   "version": "3.10.9"
  }
 },
 "nbformat": 4,
 "nbformat_minor": 5
}

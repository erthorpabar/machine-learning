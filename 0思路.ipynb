{
 "cells": [
  {
   "cell_type": "markdown",
   "metadata": {},
   "source": [
    "1 直接求解"
   ]
  },
  {
   "cell_type": "code",
   "execution_count": null,
   "metadata": {},
   "outputs": [],
   "source": [
    "'''  \n",
    "————————————直接求解的算法———————————\n",
    "a 纯粹根据历史数据来计算\n",
    "1 knn(最近k个点投票)\n",
    "2 贝叶斯(统计概率)\n",
    "3 决策树(熵->决策条件)\n",
    "\n",
    "b 线性代数转换\n",
    "1 PCA\n",
    "2 SVD\n",
    "\n",
    "c 多次几何计算(不通过求导来逼近最低点)\n",
    "1 k-means\n",
    "2 svm(增加约束条件)\n",
    "\n",
    "'''"
   ]
  },
  {
   "cell_type": "markdown",
   "metadata": {},
   "source": [
    "2 逼近最优"
   ]
  },
  {
   "cell_type": "code",
   "execution_count": null,
   "metadata": {},
   "outputs": [],
   "source": [
    "''' \n",
    "————————————0 推理函数 —————————————\n",
    "y_pred = f(w,x)\n",
    "关于 权重 和 输入 的函数\n",
    "\n",
    "————————————1 定义 损失函数——————————————\n",
    "目的 = 定义 优化方向\n",
    "距离 L = (y_pred - yi)^2    [yi 为标签  y_pred 为预测值]\n",
    "熵 L = yi * log(1/y_pred) + (1-yi) * log(1/(1-y_pred))   [yi 为标签0或1  y_pred 为预测概率]\n",
    "\n",
    "\n",
    "——————2 不能直接求损失函数最小值 -> 逼近最低点的优化问题——————————\n",
    "-> 求 dl/dw 的导数\n",
    "-> 更新权重 w = w - a * dl/dw\n",
    "1 线性回归\n",
    "2 逻辑回归\n",
    "3 神经网络\n",
    "\n",
    "'''"
   ]
  }
 ],
 "metadata": {
  "kernelspec": {
   "display_name": "Python 3",
   "language": "python",
   "name": "python3"
  },
  "language_info": {
   "name": "python",
   "version": "3.10.9"
  }
 },
 "nbformat": 4,
 "nbformat_minor": 2
}
